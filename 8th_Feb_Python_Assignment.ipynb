{
 "cells": [
  {
   "cell_type": "markdown",
   "id": "bd6a1d5e-e1be-4930-886e-e6aae06e2670",
   "metadata": {},
   "source": [
    "# 8 Feb 2023 (Python Assignment)"
   ]
  },
  {
   "cell_type": "markdown",
   "id": "5bfd9a25-578c-4e6a-9470-e1db444e4641",
   "metadata": {},
   "source": [
    "Q1. What is Abstraction in OOps? Explain with an example."
   ]
  },
  {
   "cell_type": "code",
   "execution_count": 4,
   "id": "e039c023-3ad1-4a1d-91c2-4d8f44de449d",
   "metadata": {},
   "outputs": [
    {
     "name": "stdout",
     "output_type": "stream",
     "text": [
      "Brand: Maruti\n",
      "Model: Alto\n",
      "Year: 2022\n",
      "speed up ...\n"
     ]
    }
   ],
   "source": [
    "\"\"\"\n",
    "Abstraction is a fundamental concept in Python programming that allows us to simplify \n",
    "complex concepts and focus on the essential details. It involves hiding unnecessary \n",
    "details and exposing only the relevant information to the users.\n",
    "\"\"\"\n",
    "\n",
    "# Import required modules \n",
    "from abc import ABC, abstractmethod \n",
    "\n",
    "# Create Abstract base class \n",
    "class Car(ABC): \n",
    "    def __init__(self, brand, model, year): \n",
    "        self.brand = brand \n",
    "        self.model = model \n",
    "        self.year = year \n",
    "\t\n",
    "# Create abstract method\t \n",
    "    @abstractmethod\n",
    "    def printDetails(self): \n",
    "        pass\n",
    "\t\n",
    "# Create concrete method \n",
    "    def accelerate(self): \n",
    "        print(\"speed up ...\") \n",
    "\t\n",
    "    def break_applied(self): \n",
    "        print(\"Car stop\") \n",
    "\t\n",
    "# Create a child class \n",
    "class Hatchback(Car): \n",
    "\t\n",
    "    def printDetails(self): \n",
    "        print(\"Brand:\", self.brand); \n",
    "        print(\"Model:\", self.model); \n",
    "        print(\"Year:\", self.year); \n",
    "\t\n",
    "    def Sunroof(self): \n",
    "        print(\"Not having this feature\") \n",
    "\t\n",
    "# Create a child class \n",
    "class Suv(Car): \n",
    "\t\n",
    "    def printDetails(self): \n",
    "        print(\"Brand:\", self.brand); \n",
    "        print(\"Model:\", self.model); \n",
    "        print(\"Year:\", self.year); \n",
    "\t\n",
    "    def Sunroof(self): \n",
    "        print(\"Available\") \n",
    "\n",
    "\t\n",
    "car1 = Hatchback(\"Maruti\", \"Alto\", \"2022\"); \n",
    "\n",
    "car1.printDetails() \n",
    "car1.accelerate()"
   ]
  },
  {
   "cell_type": "markdown",
   "id": "4ac50e98-1555-481c-9367-642c49435139",
   "metadata": {},
   "source": [
    "Q2. Differentiate between Abstraction and Encapsulation. Explain with an example."
   ]
  },
  {
   "cell_type": "markdown",
   "id": "0f7ecc67-5550-440a-8e96-845568ca71db",
   "metadata": {},
   "source": [
    "\n",
    "## Abstraction\n",
    "\n",
    "1. It is the process of gaining information.\n",
    "\n",
    "2. The problems in this technique are solved at the interface level.\n",
    "\n",
    "3. It helps hide the unwanted details/information.\n",
    "\n",
    "4. It can be implemented using abstract classes and interfaces.\n",
    "\n",
    "5. The complexities of the implementation are hidden using interface and abstract class.\n",
    "\n",
    "6. Abstraction can be performed using objects that are encapsulated within a single module."
   ]
  },
  {
   "cell_type": "markdown",
   "id": "0d283146-4cf8-4d97-959f-2f50751131d4",
   "metadata": {},
   "source": [
    "## Abstraction Example"
   ]
  },
  {
   "cell_type": "code",
   "execution_count": 6,
   "id": "4b0bc899-a9f9-43fd-9f9c-ec0ddb0d38a6",
   "metadata": {},
   "outputs": [
    {
     "name": "stdout",
     "output_type": "stream",
     "text": [
      "Brand: Maruti\n",
      "Model: Alto\n",
      "Year: 2022\n",
      "speed up ...\n"
     ]
    }
   ],
   "source": [
    "# Import required modules \n",
    "from abc import ABC, abstractmethod \n",
    "\n",
    "# Create Abstract base class \n",
    "class Car(ABC): \n",
    "    def __init__(self, brand, model, year): \n",
    "        self.brand = brand \n",
    "        self.model = model \n",
    "        self.year = year \n",
    "\t\n",
    "# Create abstract method\t \n",
    "    @abstractmethod\n",
    "    def printDetails(self): \n",
    "        pass\n",
    "\t\n",
    "# Create concrete method \n",
    "    def accelerate(self): \n",
    "        print(\"speed up ...\") \n",
    "\t\n",
    "    def break_applied(self): \n",
    "        print(\"Car stop\") \n",
    "\t\n",
    "# Create a child class \n",
    "class Hatchback(Car): \n",
    "\t\n",
    "    def printDetails(self): \n",
    "        print(\"Brand:\", self.brand); \n",
    "        print(\"Model:\", self.model); \n",
    "        print(\"Year:\", self.year); \n",
    "\t\n",
    "    def Sunroof(self): \n",
    "        print(\"Not having this feature\") \n",
    "\t\n",
    "# Create a child class \n",
    "class Suv(Car): \n",
    "\t\n",
    "    def printDetails(self): \n",
    "        print(\"Brand:\", self.brand); \n",
    "        print(\"Model:\", self.model); \n",
    "        print(\"Year:\", self.year); \n",
    "\t\n",
    "    def Sunroof(self): \n",
    "        print(\"Available\") \n",
    "\n",
    "\t\n",
    "car1 = Hatchback(\"Maruti\", \"Alto\", \"2022\"); \n",
    "\n",
    "car1.printDetails() \n",
    "car1.accelerate()"
   ]
  },
  {
   "cell_type": "markdown",
   "id": "56bd52f8-8ece-464e-bd2c-b2f1a8c038fa",
   "metadata": {},
   "source": [
    "## Encapsulation\n",
    "\n",
    "1. It is a method that helps wrap up data into a single module.\n",
    "\n",
    "2. Problems in encapsulation are solved at the implementation level.\n",
    "\n",
    "3. It helps hide data using a single entity, or using a unit with the help of method that helps protect the information.\n",
    "\n",
    "4. It can be implemented using access modifiers like public, private and protected.\n",
    "\n",
    "5. The data is hidden using methods such as getters and setters.\n",
    "\n",
    "6. Objects in encapsulation don't need to be in abstraction."
   ]
  },
  {
   "cell_type": "markdown",
   "id": "5afe1217-e954-4d3d-a937-b854679b22b2",
   "metadata": {},
   "source": [
    "## Encapsulation Example"
   ]
  },
  {
   "cell_type": "code",
   "execution_count": 8,
   "id": "046f879d-b9cc-47d5-a412-a9d6ac094172",
   "metadata": {},
   "outputs": [
    {
     "name": "stdout",
     "output_type": "stream",
     "text": [
      "Calling protected member of base class:  2\n",
      "Calling modified protected member outside class:  3\n",
      "Accessing protected member of obj1:  3\n",
      "Accessing protected member of obj2:  2\n"
     ]
    }
   ],
   "source": [
    "# Python program to \n",
    "# demonstrate protected members \n",
    "\n",
    "# Creating a base class \n",
    "class Base: \n",
    "\tdef __init__(self): \n",
    "\n",
    "\t\t# Protected member \n",
    "\t\tself._a = 2\n",
    "\n",
    "# Creating a derived class \n",
    "class Derived(Base): \n",
    "\tdef __init__(self): \n",
    "\n",
    "\t\t# Calling constructor of \n",
    "\t\t# Base class \n",
    "\t\tBase.__init__(self) \n",
    "\t\tprint(\"Calling protected member of base class: \", \n",
    "\t\t\tself._a) \n",
    "\n",
    "\t\t# Modify the protected variable: \n",
    "\t\tself._a = 3\n",
    "\t\tprint(\"Calling modified protected member outside class: \", \n",
    "\t\t\tself._a) \n",
    "\n",
    "\n",
    "obj1 = Derived() \n",
    "\n",
    "obj2 = Base() \n",
    "\n",
    "# Calling protected member \n",
    "# Can be accessed but should not be done due to convention \n",
    "print(\"Accessing protected member of obj1: \", obj1._a) \n",
    "\n",
    "# Accessing the protected variable outside \n",
    "print(\"Accessing protected member of obj2: \", obj2._a) \n"
   ]
  },
  {
   "cell_type": "markdown",
   "id": "cf0e2322-f625-4152-ad2e-e61d1b8deed0",
   "metadata": {},
   "source": [
    "Q3. What is abc module in python? Why is it used?"
   ]
  },
  {
   "cell_type": "markdown",
   "id": "d8624bfe-ca6f-4601-90ca-3770affd84a0",
   "metadata": {},
   "source": [
    "Ans: Python is not a fully object-oriented programming language but it supports the features like abstract classes and abstraction. We cannot create abstract classes directly in Python, so Python provides a module called abc that provides the infrastructure for defining the base of Abstract Base Classes(ABC)."
   ]
  },
  {
   "cell_type": "markdown",
   "id": "ccf8b42b-a567-47d6-b8c8-abc8449cd45f",
   "metadata": {},
   "source": [
    "Q4. How can we achieve data abstraction?"
   ]
  },
  {
   "cell_type": "markdown",
   "id": "be7db758-812b-4947-8565-436b6be80d49",
   "metadata": {},
   "source": [
    "Ans: In Python, abstraction can be achieved by using abstract classes and interfaces. A class that consists of one or more abstract method is called the abstract class. Abstract methods do not contain their implementation."
   ]
  },
  {
   "cell_type": "markdown",
   "id": "62018a2e-8fda-48c6-9597-613a72d44713",
   "metadata": {},
   "source": [
    "Q5. Can we create an instance of an abstract class? Explain your answer."
   ]
  },
  {
   "cell_type": "markdown",
   "id": "dbb9620b-e7b6-4ae7-a845-7894779342f1",
   "metadata": {},
   "source": [
    "No, we cannot create an instance of an abstract class in Python directly. Attempting to do so will result in a TypeError. We can only create instances of concrete subclasses."
   ]
  },
  {
   "cell_type": "code",
   "execution_count": null,
   "id": "6d154bac-5fde-4b1e-bae6-2b96c344b7a2",
   "metadata": {},
   "outputs": [],
   "source": []
  }
 ],
 "metadata": {
  "kernelspec": {
   "display_name": "Python 3 (ipykernel)",
   "language": "python",
   "name": "python3"
  },
  "language_info": {
   "codemirror_mode": {
    "name": "ipython",
    "version": 3
   },
   "file_extension": ".py",
   "mimetype": "text/x-python",
   "name": "python",
   "nbconvert_exporter": "python",
   "pygments_lexer": "ipython3",
   "version": "3.10.8"
  }
 },
 "nbformat": 4,
 "nbformat_minor": 5
}
