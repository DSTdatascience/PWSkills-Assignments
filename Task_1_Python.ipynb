{
 "cells": [
  {
   "cell_type": "markdown",
   "id": "aa0a08cf-23e4-4fc9-9152-3b9ad532ac58",
   "metadata": {},
   "source": [
    "# Python Task - 1"
   ]
  },
  {
   "cell_type": "markdown",
   "id": "7dcf2284-2b55-495f-9cf5-c91f9019af22",
   "metadata": {},
   "source": [
    "## Solution of Q1"
   ]
  },
  {
   "cell_type": "code",
   "execution_count": 2,
   "id": "6e1990f6-d4f0-4222-ba32-983c4652c868",
   "metadata": {},
   "outputs": [],
   "source": [
    "list1 = [1,2,3,4, [44,55,66, True], False, (34,56,78,89,34), {1,2,3,3,2,1}, \n",
    "         {1:34, \"key2\": [55, 67, 78, 89], 4: (45, 22, 61, 34)}, [56, 'data science'], \n",
    "         'Machine Learning']"
   ]
  },
  {
   "cell_type": "code",
   "execution_count": 7,
   "id": "4036f61b-8f53-4ceb-a987-d0a30d85d7a6",
   "metadata": {},
   "outputs": [],
   "source": [
    "def flat(list_a):\n",
    "    flat_list = []\n",
    "    p = 1\n",
    "    for i in list_a:\n",
    "        if type(i) is int:\n",
    "            flat_list.append(i)\n",
    "      \n",
    "        elif type(i) == list or type(i) == tuple or type(i) == set:\n",
    "            for e in i:\n",
    "                if type(e) is int:\n",
    "                    flat_list.append(e)\n",
    "                    \n",
    "                    \n",
    "        elif type(i) is dict:\n",
    "            a = list(i.items())\n",
    "            for i in a:\n",
    "                    for e in i:\n",
    "                        if type(e) is int:\n",
    "                            flat_list.append(e)\n",
    "                        elif type(e) == list or type(e) == tuple:\n",
    "                            for x in e:\n",
    "                                if type(x) is int:\n",
    "                                    flat_list.append(x)\n",
    "\n",
    "    print(\"Flat list : \", flat_list)\n",
    "    for ele in flat_list:\n",
    "        p = p*ele\n",
    "    print(\"Product of all the numbers is \", p)"
   ]
  },
  {
   "cell_type": "code",
   "execution_count": 8,
   "id": "1af90b82-1357-4e28-ae16-9a4ff94425c5",
   "metadata": {},
   "outputs": [
    {
     "name": "stdout",
     "output_type": "stream",
     "text": [
      "Flat list :  [1, 2, 3, 4, 44, 55, 66, 34, 56, 78, 89, 34, 1, 2, 3, 1, 34, 55, 67, 78, 89, 4, 45, 22, 61, 34, 56]\n",
      "Product of all the numbers is  4134711838987085478833841242112000\n"
     ]
    }
   ],
   "source": [
    "flat(list1)"
   ]
  },
  {
   "cell_type": "markdown",
   "id": "d287d8d9-2656-4bf1-835b-c988a2b9407a",
   "metadata": {},
   "source": [
    "## Solution of question 2"
   ]
  },
  {
   "cell_type": "code",
   "execution_count": 37,
   "id": "c98f615b-9819-412f-94bb-f6c8c209e687",
   "metadata": {},
   "outputs": [],
   "source": [
    "substitution_dict = {\n",
    "    'a': 'z',\n",
    "    'b': 'y',\n",
    "    'c': 'x',\n",
    "    'd': 'w',\n",
    "    'e': 'v',\n",
    "    'f': 'u',\n",
    "    'g': 't',\n",
    "    'h': 's',\n",
    "    'i': 'r',\n",
    "    'j': 'q',\n",
    "    'k': 'p',\n",
    "    'l': 'o',\n",
    "    'm': 'n',\n",
    "    'n': 'm',\n",
    "    'o': 'l',\n",
    "    'p': 'k',\n",
    "    'q': 'j',\n",
    "    'r': 'i',\n",
    "    's': 'h',\n",
    "    't': 'g',\n",
    "    'u': 'f',\n",
    "    'v': 'e',\n",
    "    'w': 'd',\n",
    "    'x': 'c',\n",
    "    'y': 'b',\n",
    "    'z': 'a',\n",
    "    ' ': '$'\n",
    "}\n",
    "\n",
    "# Function to encrypt the message\n",
    "def encrypt_message(message):\n",
    "    encrypted_message = \"\"\n",
    "    for letter in message.lower():\n",
    "        if letter in substitution_dict:\n",
    "            encrypted_message += substitution_dict[letter]\n",
    "        else:\n",
    "            encrypted_message += letter\n",
    "    return encrypted_message\n",
    "\n",
    "# Function to decrypt the message\n",
    "def decrypt_message(encrypted_message):\n",
    "    decrypted_message = \"\"\n",
    "    for letter in encrypted_message.lower():\n",
    "        if letter in substitution_dict.values():\n",
    "            for key in substitution_dict:\n",
    "                if substitution_dict[key] == letter:\n",
    "                    decrypted_message += key\n",
    "        else:\n",
    "            decrypted_message += letter\n",
    "    return decrypted_message\n"
   ]
  },
  {
   "cell_type": "code",
   "execution_count": 38,
   "id": "54bc4fd8-e57d-4e65-9477-58a878fd53b6",
   "metadata": {},
   "outputs": [],
   "source": [
    "message = \"I want to become a Data Scientist.\""
   ]
  },
  {
   "cell_type": "code",
   "execution_count": 39,
   "id": "2d539f68-a008-4cbc-9cca-34b329d36bbe",
   "metadata": {},
   "outputs": [
    {
     "data": {
      "text/plain": [
       "'r$dzmg$gl$yvxlnv$z$wzgz$hxrvmgrhg.'"
      ]
     },
     "execution_count": 39,
     "metadata": {},
     "output_type": "execute_result"
    }
   ],
   "source": [
    "encrypt_message(message)"
   ]
  },
  {
   "cell_type": "code",
   "execution_count": 40,
   "id": "fe11bebf-8e15-446f-9c16-04ba6d73845a",
   "metadata": {},
   "outputs": [
    {
     "data": {
      "text/plain": [
       "'i want to become a data scientist.'"
      ]
     },
     "execution_count": 40,
     "metadata": {},
     "output_type": "execute_result"
    }
   ],
   "source": [
    "decrypt_message(encrypted_message)"
   ]
  }
 ],
 "metadata": {
  "kernelspec": {
   "display_name": "Python 3 (ipykernel)",
   "language": "python",
   "name": "python3"
  },
  "language_info": {
   "codemirror_mode": {
    "name": "ipython",
    "version": 3
   },
   "file_extension": ".py",
   "mimetype": "text/x-python",
   "name": "python",
   "nbconvert_exporter": "python",
   "pygments_lexer": "ipython3",
   "version": "3.10.8"
  }
 },
 "nbformat": 4,
 "nbformat_minor": 5
}
