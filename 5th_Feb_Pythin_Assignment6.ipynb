{
 "cells": [
  {
   "cell_type": "markdown",
   "id": "e8b7adf7-f50c-4e65-81de-3eb5015e8f2f",
   "metadata": {},
   "source": [
    "# 5 Feb 2023 (Python Assignment 5)"
   ]
  },
  {
   "cell_type": "markdown",
   "id": "563bb0dc-5440-413b-8e83-9ce1ea7257cf",
   "metadata": {},
   "source": [
    "Q1. Explain Class and Object with respect to Object-Oriented Programming. Give a suitable example."
   ]
  },
  {
   "cell_type": "code",
   "execution_count": 1,
   "id": "b48e55c3-1a86-4ab5-b7ae-3fe846dd3114",
   "metadata": {},
   "outputs": [],
   "source": [
    "\"\"\"\n",
    "Python is an object oriented programming language.\n",
    "Almost everything in Python is an object, with its properties and methods.\n",
    "A Class is like an object constructor, or a \"blueprint\" for creating objects.\n",
    "\"\"\"\n",
    "class pwskills:     #Here pwskills is an example of class\n",
    "    def hello_msg(self):\n",
    "        print(\"Hello Bachooooo\")"
   ]
  },
  {
   "cell_type": "code",
   "execution_count": 2,
   "id": "9ea6b4c2-b6b1-45cd-a4f7-eccedf25d1e4",
   "metadata": {},
   "outputs": [],
   "source": [
    "abc = pwskills()   #Here abc is an example of object"
   ]
  },
  {
   "cell_type": "code",
   "execution_count": 3,
   "id": "4e08701d-ab57-4590-a2a8-287a66841928",
   "metadata": {},
   "outputs": [
    {
     "name": "stdout",
     "output_type": "stream",
     "text": [
      "Hello Bachooooo\n"
     ]
    }
   ],
   "source": [
    "abc.hello_msg()"
   ]
  },
  {
   "cell_type": "markdown",
   "id": "384feec5-50e3-40ec-8a64-b38ee5fa2d0d",
   "metadata": {},
   "source": [
    "Q2. Name the four pillars of OOPs."
   ]
  },
  {
   "cell_type": "code",
   "execution_count": 5,
   "id": "8d49e9df-b2fb-4912-a9af-ddef4420f38e",
   "metadata": {},
   "outputs": [],
   "source": [
    "# Inheritance, Polymorphism, Encapsulation, Abstraction"
   ]
  },
  {
   "cell_type": "markdown",
   "id": "d75b6c94-a3db-4563-8f30-2981fae68f2d",
   "metadata": {},
   "source": [
    "Q3. Explain why the _ _ _init_ _ _() function is used. Give a suitable example.\n"
   ]
  },
  {
   "cell_type": "code",
   "execution_count": 8,
   "id": "37000180-e237-4d3d-914e-dc66ff1bdcd2",
   "metadata": {},
   "outputs": [
    {
     "name": "stdout",
     "output_type": "stream",
     "text": [
      "Person name is:  John\n",
      "Person age is:  36\n"
     ]
    }
   ],
   "source": [
    "\"\"\"\n",
    "The __init__() function is use to assign values to object properties, or other operations that are necessary to do when the\n",
    "object is being created\n",
    "\"\"\"\n",
    "\n",
    "class person:\n",
    "  def __init__(self, name, age):\n",
    "    self.name = name\n",
    "    self.age = age\n",
    "\n",
    "p1 = person(\"John\", 36)\n",
    "\n",
    "print(\"Person name is: \", p1.name)\n",
    "print(\"Person age is: \", p1.age)"
   ]
  },
  {
   "cell_type": "markdown",
   "id": "05170afe-41bb-4305-8fee-71f33267ac3c",
   "metadata": {},
   "source": [
    "Q4. Why self is used in OOPs?\n",
    "\n",
    "Ans: The self parameter is a reference to the current instance of the class, and is used to access variables that belongs to the\n",
    "class. It does not have to be named self, we can call it whatever we like, but it has to be the first parameter of any \n",
    "function in the class."
   ]
  },
  {
   "cell_type": "markdown",
   "id": "c6287afc-0082-41ba-8da2-fb36b1f2ec22",
   "metadata": {},
   "source": [
    "Q5. What is inheritance? Give an example for each type of inheritance.\n",
    "\n",
    "Ans: Inheritance is defined as the mechanism of inheriting the properties of the base class to the child class.\n",
    "Types of inheritance Python:\n",
    "1. Single Inheritance\n",
    "2. Multiple Inheritance\n",
    "3. Multiple Level Inheritance\n",
    "4. Hierarchical Inheritance\n",
    "5. Hybird Inheritance\n"
   ]
  },
  {
   "cell_type": "markdown",
   "id": "d14fc975-f9f9-4b56-bc3b-b3920c4f9dd8",
   "metadata": {},
   "source": [
    "# 1. Single Inheritance"
   ]
  },
  {
   "cell_type": "markdown",
   "id": "67041459-50ec-42f2-8963-1b371d0cb3df",
   "metadata": {},
   "source": [
    "Single inheritance enables a derived class to inherit properties from a single parent class, thus enabling code reusability\n",
    "and the addition of new features to existing code."
   ]
  },
  {
   "cell_type": "code",
   "execution_count": 9,
   "id": "019c37a9-134b-4c09-b002-f4fce4f6093e",
   "metadata": {},
   "outputs": [
    {
     "name": "stdout",
     "output_type": "stream",
     "text": [
      "This function is in parent class.\n",
      "This function is in child class.\n"
     ]
    }
   ],
   "source": [
    "# Base class\n",
    "class Parent:\n",
    "\tdef func1(self):\n",
    "\t\tprint(\"This function is in parent class.\")\n",
    "\n",
    "# Derived class\n",
    "class Child(Parent):\n",
    "\tdef func2(self):\n",
    "\t\tprint(\"This function is in child class.\")\n",
    "        \n",
    "object = Child() # we made object in child class\n",
    "object.func1() # we are able to call a fuction of parent class from object of child class.\n",
    "object.func2() "
   ]
  },
  {
   "cell_type": "markdown",
   "id": "56257aad-4d27-4716-a7d2-2b077b984e15",
   "metadata": {},
   "source": [
    "# 2. Multiple Inheritance"
   ]
  },
  {
   "cell_type": "markdown",
   "id": "e3fb3218-045e-4c90-9368-b86f1fea3532",
   "metadata": {},
   "source": [
    "When a class can be derived from more than one base class this type of inheritance is called multiple inheritances. In multiple inheritances, all the features of the base classes are inherited into the derived class. "
   ]
  },
  {
   "cell_type": "code",
   "execution_count": 10,
   "id": "9ed77589-d6c7-4231-a36b-6b1c9c252a5d",
   "metadata": {},
   "outputs": [
    {
     "name": "stdout",
     "output_type": "stream",
     "text": [
      "Father : RAM\n",
      "Mother : SITA\n"
     ]
    }
   ],
   "source": [
    "# Base class1\n",
    "class Mother:\n",
    "\tmothername = \"\"\n",
    "\tdef mother(self):\n",
    "\t\tprint(self.mothername)\n",
    "\n",
    "# Base class2\n",
    "class Father:\n",
    "\tfathername = \"\"\n",
    "\tdef father(self):\n",
    "\t\tprint(self.fathername)\n",
    "\n",
    "# Derived class\n",
    "class Son(Mother, Father):\n",
    "\tdef parents(self):\n",
    "\t\tprint(\"Father :\", self.fathername)\n",
    "\t\tprint(\"Mother :\", self.mothername)\n",
    "\n",
    "\n",
    "# Driver's code\n",
    "s1 = Son()\n",
    "s1.fathername = \"RAM\"\n",
    "s1.mothername = \"SITA\"\n",
    "s1.parents()\n"
   ]
  },
  {
   "cell_type": "markdown",
   "id": "bab6b092-66aa-4801-8b55-272d6032f13c",
   "metadata": {},
   "source": [
    "# 3. Multiple Level Inheritance"
   ]
  },
  {
   "cell_type": "markdown",
   "id": "c9947b89-c608-4cc2-88cd-3c0e96e9b1f7",
   "metadata": {},
   "source": [
    "In multilevel inheritance, features of the base class and the derived class are further inherited into the new derived class. This is similar to a relationship representing a child and a grandfather."
   ]
  },
  {
   "cell_type": "code",
   "execution_count": 14,
   "id": "c08cb353-342e-426d-958c-32c241224b1d",
   "metadata": {},
   "outputs": [
    {
     "name": "stdout",
     "output_type": "stream",
     "text": [
      "Lal mani\n",
      "Grandfather name : Lal mani\n",
      "Father name : Rampal\n",
      "Son name : Prince\n"
     ]
    }
   ],
   "source": [
    "# Base class\n",
    "class Grandfather:\n",
    "\tdef __init__(self, grandfathername):\n",
    "\t\tself.grandfathername = grandfathername\n",
    "\n",
    "# Intermediate class\n",
    "class Father(Grandfather):\n",
    "\tdef __init__(self, fathername, grandfathername):\n",
    "\t\tself.fathername = fathername\n",
    "\n",
    "\t\t# invoking constructor of Grandfather class\n",
    "\t\tGrandfather.__init__(self, grandfathername)\n",
    "\n",
    "# Derived class\n",
    "class Son(Father):\n",
    "\tdef __init__(self, sonname, fathername, grandfathername):\n",
    "\t\tself.sonname = sonname\n",
    "\n",
    "\t\t# invoking constructor of Father class\n",
    "\t\tFather.__init__(self, fathername, grandfathername)\n",
    "\n",
    "\tdef print_name(self):\n",
    "\t\tprint('Grandfather name :', self.grandfathername)\n",
    "\t\tprint(\"Father name :\", self.fathername)\n",
    "\t\tprint(\"Son name :\", self.sonname)\n",
    "\n",
    "\n",
    "# Driver code\n",
    "s1 = Son('Prince', 'Rampal', 'Lal mani')\n",
    "print(s1.grandfathername)\n",
    "s1.print_name()\n"
   ]
  },
  {
   "cell_type": "markdown",
   "id": "a4a1ac56-6e8a-40a0-8edd-dddfb5e31bce",
   "metadata": {},
   "source": [
    "# 4. Hierarchical Inheritance"
   ]
  },
  {
   "cell_type": "markdown",
   "id": "26038b41-07bd-43aa-918c-1f1a8fdc40cd",
   "metadata": {},
   "source": [
    "When more than one derived class are created from a single base this type of inheritance is called hierarchical inheritance. In this program, we have a parent (base) class and two child (derived) classes."
   ]
  },
  {
   "cell_type": "code",
   "execution_count": 17,
   "id": "665f2a1e-63e1-4fa6-895a-857de556fd0c",
   "metadata": {},
   "outputs": [
    {
     "name": "stdout",
     "output_type": "stream",
     "text": [
      "This function is in parent class.\n",
      "This function is in child 1.\n",
      "This function is in parent class.\n",
      "This function is in child 2.\n"
     ]
    }
   ],
   "source": [
    "# Base class\n",
    "class Parent:\n",
    "\tdef func1(self):\n",
    "\t\tprint(\"This function is in parent class.\")\n",
    "\n",
    "# Derived class1\n",
    "class Child1(Parent):\n",
    "\tdef func2(self):\n",
    "\t\tprint(\"This function is in child 1.\")\n",
    "\n",
    "# Derivied class2\n",
    "class Child2(Parent):\n",
    "\tdef func3(self):\n",
    "\t\tprint(\"This function is in child 2.\")\n",
    "\n",
    "# Driver's code\n",
    "object1 = Child1()\n",
    "object2 = Child2()\n",
    "object1.func1()\n",
    "object1.func2()\n",
    "object2.func1()\n",
    "object2.func3()"
   ]
  },
  {
   "cell_type": "markdown",
   "id": "e88dcf5d-0ef5-4421-8a53-b565ac6445db",
   "metadata": {},
   "source": [
    "# 5. Hybird Inheritance"
   ]
  },
  {
   "cell_type": "markdown",
   "id": "8b44930a-f24f-467b-a994-c414cb70f0a2",
   "metadata": {},
   "source": [
    "Inheritance consisting of multiple types of inheritance is called hybrid inheritance."
   ]
  },
  {
   "cell_type": "code",
   "execution_count": 19,
   "id": "32c95f29-0184-4b80-85a0-325b4aa18f4a",
   "metadata": {},
   "outputs": [
    {
     "name": "stdout",
     "output_type": "stream",
     "text": [
      "This function is in school.\n",
      "This function is in student 1. \n"
     ]
    }
   ],
   "source": [
    "class School:\n",
    "\tdef func1(self):\n",
    "\t\tprint(\"This function is in school.\")\n",
    "\n",
    "\n",
    "class Student1(School):\n",
    "\tdef func2(self):\n",
    "\t\tprint(\"This function is in student 1. \")\n",
    "\n",
    "\n",
    "class Student2(School):\n",
    "\tdef func3(self):\n",
    "\t\tprint(\"This function is in student 2.\")\n",
    "\n",
    "\n",
    "class Student3(Student1, School):\n",
    "\tdef func4(self):\n",
    "\t\tprint(\"This function is in student 3.\")\n",
    "\n",
    "\n",
    "# Driver's code\n",
    "object = Student3()\n",
    "object.func1()\n",
    "object.func2()\n"
   ]
  },
  {
   "cell_type": "code",
   "execution_count": null,
   "id": "7d3bf2d9-ad20-4c11-accf-7463d67ad72e",
   "metadata": {},
   "outputs": [],
   "source": []
  }
 ],
 "metadata": {
  "kernelspec": {
   "display_name": "Python 3 (ipykernel)",
   "language": "python",
   "name": "python3"
  },
  "language_info": {
   "codemirror_mode": {
    "name": "ipython",
    "version": 3
   },
   "file_extension": ".py",
   "mimetype": "text/x-python",
   "name": "python",
   "nbconvert_exporter": "python",
   "pygments_lexer": "ipython3",
   "version": "3.10.8"
  }
 },
 "nbformat": 4,
 "nbformat_minor": 5
}
