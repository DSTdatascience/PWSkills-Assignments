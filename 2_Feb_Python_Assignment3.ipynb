{
 "cells": [
  {
   "cell_type": "markdown",
   "metadata": {
    "tags": []
   },
   "source": [
    "# 2 Feb 2023 (Python Assignment 3)"
   ]
  },
  {
   "cell_type": "code",
   "execution_count": 1,
   "metadata": {},
   "outputs": [],
   "source": [
    "# Ques 1: for loop and a while loop"
   ]
  },
  {
   "cell_type": "code",
   "execution_count": 40,
   "metadata": {},
   "outputs": [
    {
     "name": "stdout",
     "output_type": "stream",
     "text": [
      "apple\n",
      "banana\n",
      "cherry\n",
      "1\n",
      "2\n",
      "3\n",
      "4\n",
      "5\n"
     ]
    }
   ],
   "source": [
    "# A for loop is used for iterating over a sequence (that is either a list, a tuple, a dictionary, a set, or a string).\n",
    "# With the for loop we can execute a set of statements, once for each item in a list, tuple, set etc.\n",
    "fruits = [\"apple\", \"banana\", \"cherry\"]\n",
    "for x in fruits:\n",
    "  print(x)\n",
    "\n",
    "# With the while loop we can execute a set of statements as long as a condition is true.\n",
    "i = 1\n",
    "while i < 6:\n",
    "  print(i)\n",
    "  i += 1"
   ]
  },
  {
   "cell_type": "code",
   "execution_count": 5,
   "metadata": {},
   "outputs": [],
   "source": [
    "# Ques 2: python program to print the sum and product of the first 10 natural numbers using for and while loop."
   ]
  },
  {
   "cell_type": "code",
   "execution_count": 41,
   "metadata": {},
   "outputs": [
    {
     "name": "stdout",
     "output_type": "stream",
     "text": [
      "The sum of the first 10 natural numbers are: 55\n",
      "The product of the first 10 natural numbers are: 3628800\n",
      "The sum of the first 10 natural numbers are: 55\n",
      "The product of the first 10 natural numbers are: 1\n"
     ]
    }
   ],
   "source": [
    "#for loop\n",
    "sum = 0\n",
    "product = 1\n",
    "for i in range(1,11):\n",
    "    sum = sum+i\n",
    "    product = product*i\n",
    "print(\"The sum of the first 10 natural numbers are:\", sum)\n",
    "print(\"The product of the first 10 natural numbers are:\", product)\n",
    "\n",
    "#while loop\n",
    "sum = 0\n",
    "product = 1\n",
    "i = 1\n",
    "while (i<11):\n",
    "    sum = sum+i\n",
    "    products = products*i\n",
    "    i = i+1\n",
    "print(\"The sum of the first 10 natural numbers are:\", sum)\n",
    "print(\"The product of the first 10 natural numbers are:\", product)"
   ]
  },
  {
   "cell_type": "code",
   "execution_count": 8,
   "metadata": {},
   "outputs": [],
   "source": [
    "# Ques 3: Electricity bill"
   ]
  },
  {
   "cell_type": "code",
   "execution_count": 42,
   "metadata": {},
   "outputs": [
    {
     "name": "stdin",
     "output_type": "stream",
     "text": [
      "Enter the units of electricity consumed 310\n"
     ]
    },
    {
     "name": "stdout",
     "output_type": "stream",
     "text": [
      "The total electricity bill is Rs 2250 /-\n"
     ]
    }
   ],
   "source": [
    "u = int(input(\"Enter the units of electricity consumed\"))\n",
    "if u > 0 and u <= 100:\n",
    "    b1 = u*4.5\n",
    "    print(\"The total electricity bill is Rs\", b1, \"/-\")\n",
    "elif u > 100 and u <= 200:\n",
    "     b2 = ((u-100)*6)+450\n",
    "     print(\"The total electricity bill is Rs\", b2, \"/-\")\n",
    "elif u > 200 and u <= 300:\n",
    "     b3 = ((u-200)*10)+450+600\n",
    "     print(\"The total electricity bill is Rs\", b3, \"/-\")\n",
    "elif u > 300:\n",
    "    b4 = ((u-300)*20)+450+600+1000\n",
    "    print(\"The total electricity bill is Rs\", b4, \"/-\")\n",
    "\n",
    "\n",
    "\n"
   ]
  },
  {
   "cell_type": "code",
   "execution_count": 21,
   "metadata": {},
   "outputs": [],
   "source": [
    "# Ques 4: Cube and is divisible by 4 or 5"
   ]
  },
  {
   "cell_type": "code",
   "execution_count": 39,
   "metadata": {},
   "outputs": [
    {
     "name": "stdout",
     "output_type": "stream",
     "text": [
      "Cubes divisible by 4 or 5: [2, 4, 5, 6, 8, 10, 12, 14, 15, 16, 18, 20, 22, 24, 25, 26, 28, 30, 32, 34, 35, 36, 38, 40, 42, 44, 45, 46, 48, 50, 52, 54, 55, 56, 58, 60, 62, 64, 65, 66, 68, 70, 72, 74, 75, 76, 78, 80, 82, 84, 85, 86, 88, 90, 92, 94, 95, 96, 98, 100]\n",
      "Cubes divisible by 4 or 5: [2, 4, 5, 6, 8, 10, 12, 14, 15, 16, 18, 20, 22, 24, 25, 26, 28, 30, 32, 34, 35, 36, 38, 40, 42, 44, 45, 46, 48, 50, 52, 54, 55, 56, 58, 60, 62, 64, 65, 66, 68, 70, 72, 74, 75, 76, 78, 80, 82, 84, 85, 86, 88, 90, 92, 94, 95, 96, 98, 100]\n"
     ]
    }
   ],
   "source": [
    "#for loop\n",
    "l1 = list(range(1,101))\n",
    "l2 =[]\n",
    "for i in l1:\n",
    "    c = i**3\n",
    "    if c%4 == 0 or c%5 == 0:\n",
    "        l2.append(i)\n",
    "print(\"Cubes divisible by 4 or 5:\", l2)\n",
    "\n",
    "#while loop\n",
    "l3 = []\n",
    "i = 1\n",
    "while i <= len(l1):\n",
    "    c = i**3\n",
    "    if c%4 == 0 or c%5 == 0:\n",
    "        l3.append(i)\n",
    "    i += 1\n",
    "print(\"Cubes divisible by 4 or 5:\", l3)"
   ]
  },
  {
   "cell_type": "code",
   "execution_count": 11,
   "metadata": {},
   "outputs": [],
   "source": [
    "# Ques 5: program to filter count vowels"
   ]
  },
  {
   "cell_type": "code",
   "execution_count": 56,
   "metadata": {},
   "outputs": [
    {
     "name": "stdout",
     "output_type": "stream",
     "text": [
      "12\n"
     ]
    }
   ],
   "source": [
    "s = \"I want to become a data scientist\"\n",
    "vowels = \"a,e,i,o,u,A,E,I,O,U\"\n",
    "c = 0\n",
    "for alphabet in s:\n",
    "    if alphabet in vowels:\n",
    "        c +=1\n",
    "print(c)\n",
    "        "
   ]
  },
  {
   "cell_type": "code",
   "execution_count": null,
   "metadata": {},
   "outputs": [],
   "source": []
  }
 ],
 "metadata": {
  "kernelspec": {
   "display_name": "Python 3 (ipykernel)",
   "language": "python",
   "name": "python3"
  },
  "language_info": {
   "codemirror_mode": {
    "name": "ipython",
    "version": 3
   },
   "file_extension": ".py",
   "mimetype": "text/x-python",
   "name": "python",
   "nbconvert_exporter": "python",
   "pygments_lexer": "ipython3",
   "version": "3.10.8"
  }
 },
 "nbformat": 4,
 "nbformat_minor": 4
}
