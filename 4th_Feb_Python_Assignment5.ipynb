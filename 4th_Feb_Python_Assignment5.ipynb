{
 "cells": [
  {
   "cell_type": "markdown",
   "id": "bbc9bf17-a617-420b-bac4-373d37f4ac0c",
   "metadata": {},
   "source": [
    "# 4 Feb 2023 (Python Assignment 5)"
   ]
  },
  {
   "cell_type": "markdown",
   "id": "3505d49d-947b-4a62-aafd-9507e378e3aa",
   "metadata": {},
   "source": [
    "Q1. Create a python program to sort the given list of tuples based on integer value using a\n",
    "lambda function.\n",
    "[('Sachin Tendulkar', 34357), ('Ricky Ponting', 27483), ('Jack Kallis', 25534), ('Virat Kohli', 24936)]"
   ]
  },
  {
   "cell_type": "code",
   "execution_count": 15,
   "id": "53319339-117b-4099-b094-464d230f49d1",
   "metadata": {},
   "outputs": [
    {
     "name": "stdout",
     "output_type": "stream",
     "text": [
      "[('Sachin Tendulkar', 34357), ('Ricky Ponting', 27483), ('Jack Kallis', 25534), ('Virat Kohli', 24936)]\n"
     ]
    }
   ],
   "source": [
    "l = [('Sachin Tendulkar', 34357), ('Ricky Ponting', 27483), ('Jack Kallis', 25534), ('Virat Kohli', 24936)]\n",
    "\n",
    "l2 = sorted(l, key = lambda x: x[1], reverse=True)\n",
    "\n",
    "print(sorted_players)"
   ]
  },
  {
   "cell_type": "markdown",
   "id": "9c0bd61f-c463-41e7-8edd-9d3d0b18ab0f",
   "metadata": {},
   "source": [
    "Q2. Write a Python Program to find the squares of all the numbers in the given list of integers using\n",
    "lambda and map functions.\n",
    "\n",
    "\n",
    "[1, 2, 3, 4, 5, 6, 7, 8, 9, 10]"
   ]
  },
  {
   "cell_type": "code",
   "execution_count": 28,
   "id": "0092174c-1947-4d97-9766-e589bbdd5a86",
   "metadata": {},
   "outputs": [
    {
     "data": {
      "text/plain": [
       "[1, 4, 9, 16, 25, 36, 49, 64, 81, 100]"
      ]
     },
     "execution_count": 28,
     "metadata": {},
     "output_type": "execute_result"
    }
   ],
   "source": [
    "l = [1, 2, 3, 4, 5, 6, 7, 8, 9, 10]\n",
    "list(map(lambda x:x**2, l))"
   ]
  },
  {
   "cell_type": "markdown",
   "id": "d8c1e05c-8f40-43b3-b1bf-c1a37edeefa9",
   "metadata": {},
   "source": [
    "Q3. Write a python program to convert the given list of integers into a tuple of strings. Use map and\n",
    "lambda functions\n",
    "\n",
    "\n",
    "Given String: [1, 2, 3, 4, 5, 6, 7, 8, 9, 10]\n",
    "\n",
    "Expected output: ('1', '2', '3', '4', '5', '6', '7', '8', '9', '10')"
   ]
  },
  {
   "cell_type": "code",
   "execution_count": 32,
   "id": "ea753b50-2b39-4055-a2c1-b6c33025f50d",
   "metadata": {},
   "outputs": [
    {
     "data": {
      "text/plain": [
       "('1', '2', '3', '4', '5', '6', '7', '8', '9', '10')"
      ]
     },
     "execution_count": 32,
     "metadata": {},
     "output_type": "execute_result"
    }
   ],
   "source": [
    "l =  [1, 2, 3, 4, 5, 6, 7, 8, 9, 10]\n",
    "tuple(map(lambda x: str(x), l))"
   ]
  },
  {
   "cell_type": "markdown",
   "id": "4611ff23-7a81-4dda-bd5b-478ec311e4fd",
   "metadata": {},
   "source": [
    "Q4. Write a python program using reduce function to compute the product of a list containing numbers\n",
    "from 1 to 25."
   ]
  },
  {
   "cell_type": "code",
   "execution_count": 56,
   "id": "c8292212-d72d-42b5-b9ee-e2b8fa20c485",
   "metadata": {},
   "outputs": [
    {
     "data": {
      "text/plain": [
       "15511210043330985984000000"
      ]
     },
     "execution_count": 56,
     "metadata": {},
     "output_type": "execute_result"
    }
   ],
   "source": [
    "from functools import reduce\n",
    "l = list(range(1,26))\n",
    "reduce(lambda x, y: x*y, l)\n"
   ]
  },
  {
   "cell_type": "markdown",
   "id": "1c9213e8-bcfe-4bdd-ae85-fda55a9d7635",
   "metadata": {},
   "source": [
    "Q5. Write a python program to filter the numbers in a given list that are divisible by 2 and 3 using the\n",
    "filter function.\n",
    "\n",
    "\n",
    "[2, 3, 6, 9, 27, 60, 90, 120, 55, 46]"
   ]
  },
  {
   "cell_type": "code",
   "execution_count": 67,
   "id": "0d0a31b0-5fb2-47e2-b109-12a47a50be64",
   "metadata": {},
   "outputs": [
    {
     "name": "stdout",
     "output_type": "stream",
     "text": [
      "Numbers divisible by 2 are:  [2, 6, 60, 90, 120, 46]\n",
      "Numbers divisible by 3 are:  [3, 6, 9, 27, 60, 90, 120]\n"
     ]
    }
   ],
   "source": [
    "l = [2, 3, 6, 9, 27, 60, 90, 120, 55, 46]\n",
    "\n",
    "a = list(filter(lambda x : x % 2 == 0, l))\n",
    "print(\"Numbers divisible by 2 are: \", a)\n",
    "\n",
    "b = list(filter(lambda x : x % 3 == 0, l))\n",
    "print(\"Numbers divisible by 3 are: \", b)"
   ]
  },
  {
   "cell_type": "markdown",
   "id": "10f65aef-7869-4175-9598-e28191dff5d3",
   "metadata": {},
   "source": [
    "Q6. Write a python program to find palindromes in the given list of strings using lambda and filter\n",
    "function.\n",
    "\n",
    "\n",
    "['python', 'php', 'aba', 'radar', 'level']"
   ]
  },
  {
   "cell_type": "code",
   "execution_count": 69,
   "id": "cee20078-4778-4e02-8229-0b0dafa7fe7d",
   "metadata": {},
   "outputs": [
    {
     "name": "stdout",
     "output_type": "stream",
     "text": [
      "Orginal list of strings:  ['python', 'php', 'aba', 'radar', 'level']\n",
      "\n",
      "List of palindromes:  ['php', 'aba', 'radar', 'level']\n"
     ]
    }
   ],
   "source": [
    "l = ['python', 'php', 'aba', 'radar', 'level']\n",
    "print(\"Orginal list of strings: \", l)\n",
    "\n",
    "result = list(filter(lambda x: (x == \"\".join(reversed(x))), l))\n",
    "\n",
    "print(\"\\nList of palindromes: \", result)"
   ]
  }
 ],
 "metadata": {
  "kernelspec": {
   "display_name": "Python 3 (ipykernel)",
   "language": "python",
   "name": "python3"
  },
  "language_info": {
   "codemirror_mode": {
    "name": "ipython",
    "version": 3
   },
   "file_extension": ".py",
   "mimetype": "text/x-python",
   "name": "python",
   "nbconvert_exporter": "python",
   "pygments_lexer": "ipython3",
   "version": "3.10.8"
  }
 },
 "nbformat": 4,
 "nbformat_minor": 5
}
