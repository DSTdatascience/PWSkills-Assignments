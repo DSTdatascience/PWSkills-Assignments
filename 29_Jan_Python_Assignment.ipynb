{
 "cells": [
  {
   "cell_type": "markdown",
   "metadata": {
    "tags": []
   },
   "source": [
    "# 29 Jan 2023 (Python Assignment)"
   ]
  },
  {
   "cell_type": "code",
   "execution_count": 12,
   "metadata": {},
   "outputs": [],
   "source": [
    "# Ques 1: Who developed Python Programming Language?"
   ]
  },
  {
   "cell_type": "markdown",
   "metadata": {},
   "source": [
    "Ans: It was created by Guido Van Rossum in 1989."
   ]
  },
  {
   "cell_type": "code",
   "execution_count": 13,
   "metadata": {},
   "outputs": [],
   "source": [
    "# Ques 2: Which type of Programming does Python support?"
   ]
  },
  {
   "cell_type": "markdown",
   "metadata": {},
   "source": [
    "Ans: Python is a dynamically typed, General Purpose Programming Language that supports an object-oriented programming approach as well as a functional programming approach."
   ]
  },
  {
   "cell_type": "code",
   "execution_count": 14,
   "metadata": {},
   "outputs": [],
   "source": [
    "# Ques 3: Is Python case sensitive when dealing with indentifiers? "
   ]
  },
  {
   "cell_type": "markdown",
   "metadata": {},
   "source": [
    "Ans: Yes, Python is a case sensitive language. When dealing with indentifiers, it consider uppercase and lowercase differently."
   ]
  },
  {
   "cell_type": "code",
   "execution_count": 15,
   "metadata": {},
   "outputs": [],
   "source": [
    "# Ques 4: What is the correct extension of the Python file?"
   ]
  },
  {
   "cell_type": "markdown",
   "metadata": {},
   "source": [
    "Ans: The extensions for Python files are - .py, .pyi, .pyc, .pyd, .pyo, .pyw, and .pyz."
   ]
  },
  {
   "cell_type": "code",
   "execution_count": 16,
   "metadata": {},
   "outputs": [],
   "source": [
    "# Ques 5: Is Python code compiled or interpreted?"
   ]
  },
  {
   "cell_type": "markdown",
   "metadata": {},
   "source": [
    "Ans: Python is an interpreted language, which means the source code of a Python program is converted into bytecode that is then executed by the Python virtual machine."
   ]
  },
  {
   "cell_type": "code",
   "execution_count": 19,
   "metadata": {},
   "outputs": [
    {
     "name": "stdout",
     "output_type": "stream",
     "text": [
      "Hello pwskills team\n"
     ]
    },
    {
     "name": "stdin",
     "output_type": "stream",
     "text": [
      "Enter your marks  78\n"
     ]
    },
    {
     "name": "stdout",
     "output_type": "stream",
     "text": [
      "You need to work hard\n"
     ]
    }
   ],
   "source": [
    "# Ques 6: Name a few blocks of code used to define in Python language?\n",
    "\n",
    "print (\"Hello pwskills team\")\n",
    "\n",
    "marks = int(input(\"Enter your marks \"))\n",
    "if marks >= 80:\n",
    "    print(\"You are a good student\")\n",
    "else :\n",
    "    print(\"You need to work hard\")"
   ]
  },
  {
   "cell_type": "code",
   "execution_count": 20,
   "metadata": {},
   "outputs": [],
   "source": [
    "# Ques 7: State a character used to give single line comments in Python?"
   ]
  },
  {
   "cell_type": "markdown",
   "metadata": {},
   "source": [
    "Ans: \" # \" character"
   ]
  },
  {
   "cell_type": "code",
   "execution_count": 21,
   "metadata": {},
   "outputs": [
    {
     "name": "stdout",
     "output_type": "stream",
     "text": [
      "3.10.8 | packaged by conda-forge | (main, Nov 22 2022, 08:26:04) [GCC 10.4.0]\n"
     ]
    }
   ],
   "source": [
    "# Ques 8: Mention function which can help us to find the version of python that we are currently working on?\n",
    "\n",
    "import sys\n",
    "print(sys.version)\n"
   ]
  },
  {
   "cell_type": "code",
   "execution_count": 22,
   "metadata": {},
   "outputs": [],
   "source": [
    "# Ques 9: Python supports the creation of anonymous functions at runtime, using a construct called "
   ]
  },
  {
   "cell_type": "markdown",
   "metadata": {},
   "source": [
    "Ans: Lambda"
   ]
  },
  {
   "cell_type": "code",
   "execution_count": 23,
   "metadata": {},
   "outputs": [],
   "source": [
    "# Ques 10: What does pip stand for in python?"
   ]
  },
  {
   "cell_type": "markdown",
   "metadata": {},
   "source": [
    "Ans: Pip stands for package installer for Python. It is used to install packages."
   ]
  },
  {
   "cell_type": "code",
   "execution_count": 4,
   "metadata": {},
   "outputs": [],
   "source": [
    "# Ques 11: Mention a few built-in functions in Python?\n",
    "\n",
    "# Function\t                     Description\n",
    "# abs()\t        Returns the absolute value of a number\n",
    "# all()\t        Returns True if all items in an iterable object are true\n",
    "# any()\t        Returns True if any item in an iterable object is true\n",
    "# ascii()\t        Returns a readable version of an object. Replaces none-ascii characters with escape character\n",
    "# bin()\t        Returns the binary version of a number\n",
    "# bool()\t        Returns the boolean value of the specified object\n",
    "# bytearray()\t    Returns an array of bytes\n",
    "# bytes()\t        Returns a bytes object\n",
    "# callable()\t    Returns True if the specified object is callable, otherwise False\n",
    "# chr()\t        Returns a character from the specified Unicode code.\n",
    "# classmethod()\tConverts a method into a class method\n",
    "# compile()\t    Returns the specified source as an object, ready to be executed\n",
    "# complex()\t    Returns a complex number\n",
    "# delattr()\t    Deletes the specified attribute (property or method) from the specified object\n",
    "# dict()\t        Returns a dictionary (Array)\n",
    "# dir()\t        Returns a list of the specified object's properties and methods\n",
    "# divmod()\t    Returns the quotient and the remainder when argument1 is divided by argument2\n",
    "# enumerate()\t    Takes a collection (e.g. a tuple) and returns it as an enumerate object\n",
    "# eval()\t        Evaluates and executes an expression\n",
    "# exec()\t        Executes the specified code (or object)\n",
    "# filter()\t    Use a filter function to exclude items in an iterable object\n",
    "# float()\t        Returns a floating point number\n",
    "# format()\t    Formats a specified value\n",
    "# frozenset()\t    Returns a frozenset object\n",
    "# getattr()\t    Returns the value of the specified attribute (property or method)\n",
    "# globals()\t    Returns the current global symbol table as a dictionary\n",
    "# hasattr()\t    Returns True if the specified object has the specified attribute (property/method)\n",
    "# hash()\t        Returns the hash value of a specified object\n",
    "# help()\t        Executes the built-in help system\n",
    "# hex()\t        Converts a number into a hexadecimal value\n",
    "# id()\t        Returns the id of an object\n",
    "# input()\t        Allowing user input\n",
    "# int()\t        Returns an integer number\n",
    "# isinstance()\tReturns True if a specified object is an instance of a specified object\n",
    "# issubclass()\tReturns True if a specified class is a subclass of a specified object\n",
    "# iter()\t        Returns an iterator object\n",
    "# len()\t        Returns the length of an object\n",
    "# list()\t        Returns a list\n",
    "# locals()\t    Returns an updated dictionary of the current local symbol table\n",
    "# map()\t        Returns the specified iterator with the specified function applied to each item\n",
    "# max()\t        Returns the largest item in an iterable\n",
    "# memoryview()\tReturns a memory view object\n",
    "# min()\t        Returns the smallest item in an iterable\n",
    "# next()\t        Returns the next item in an iterable\n",
    "# object()\t    Returns a new object\n",
    "# oct()\t        Converts a number into an octal\n",
    "# open()\t        Opens a file and returns a file object\n",
    "# ord()\t        Convert an integer representing the Unicode of the specified character\n",
    "# pow()\t        Returns the value of x to the power of y\n",
    "# print()\t        Prints to the standard output device\n",
    "# property()\t    Gets, sets, deletes a property\n",
    "# range()\t        Returns a sequence of numbers, starting from 0 and increments by 1 (by default)\n",
    "# repr()\t        Returns a readable version of an object\n",
    "# reversed()\t    Returns a reversed iterator\n",
    "# round()\t        Rounds a numbers\n",
    "# set()\t        Returns a new set object\n",
    "# setattr()\t    Sets an attribute (property/method) of an object\n",
    "# slice()\t        Returns a slice object\n",
    "# sorted()\t    Returns a sorted list\n",
    "# staticmethod()\tConverts a method into a static method\n",
    "# str()\t        Returns a string object\n",
    "# sum()\t        Sums the items of an iterator\n",
    "# super()\t        Returns an object that represents the parent class\n",
    "# tuple()\t        Returns a tuple\n",
    "# type()\t        Returns the type of an object\n",
    "# vars()\t        Returns the __dict__ property of an object\n",
    "# zip()\t        Returns an iterator, from two or more iterators"
   ]
  },
  {
   "cell_type": "code",
   "execution_count": 24,
   "metadata": {},
   "outputs": [],
   "source": [
    "# Ques 12: What is the maximun possible lenght of an indentifier in Python?"
   ]
  },
  {
   "cell_type": "markdown",
   "metadata": {},
   "source": [
    "Ans: 79 characters"
   ]
  },
  {
   "cell_type": "code",
   "execution_count": 8,
   "metadata": {},
   "outputs": [],
   "source": [
    "# Ques 13: What are the benifits of using python?"
   ]
  },
  {
   "cell_type": "raw",
   "metadata": {},
   "source": [
    "Ans:\n",
    "Python is simple and easy to understand.\n",
    "It is Interpreted and platform-independent which makes debugging very easy.\n",
    "Python is an open-source programming language.\n",
    "Python provides very big library support. Some of the popular libraries include NumPy, Tensorflow, Selenium, OpenCV, etc.\n",
    "It is possible to integrate other programming languages within python."
   ]
  },
  {
   "cell_type": "code",
   "execution_count": 9,
   "metadata": {},
   "outputs": [],
   "source": [
    "# Ques 14: How is memory managed in Python?"
   ]
  },
  {
   "cell_type": "raw",
   "metadata": {},
   "source": [
    "Ans: \n",
    "There are two parts of memory\n",
    "1. Stack memory\n",
    "2. Heap memory\n",
    "\n",
    "Work of Stack Memory\n",
    "The allocation happens on contiguous blocks of memory. We call it stack memory allocation because the allocation happens in the function call stack. The size of memory to be allocated is known to the compiler and whenever a function is called, its variables get memory allocated on the stack.\n",
    "It is the memory that is only needed inside a particular function or method call. When a function is called, it is added onto the program’s call stack. Any local memory assignments such as variable initializations inside the particular functions are stored temporarily on the function call stack, where it is deleted once the function returns, and the call stack moves on to the next task. This allocation onto a contiguous block of memory is handled by the compiler using predefined routines, and developers do not need to worry about it.\n",
    "\n",
    "\n",
    "Work of Heap Memory\n",
    "The memory is allocated during the execution of instructions written by programmers. Note that the name heap has nothing to do with the heap data structure. It is called heap because it is a pile of memory space available to programmers to allocated and de-allocate. The variables are needed outside of method or function calls or are shared within multiple functions globally are stored in Heap memory."
   ]
  },
  {
   "cell_type": "code",
   "execution_count": 10,
   "metadata": {},
   "outputs": [],
   "source": [
    "# Ques 15: How to install Python on windows and set path variables?"
   ]
  },
  {
   "cell_type": "raw",
   "metadata": {},
   "source": [
    "Ans:\n",
    "Install python from this link https://www.python.org/downloads/\n",
    "After this, install it on your PC. Look for the location where PYTHON has been installed on your PC using tge following command on your command prompt: cmd python.\n",
    "Then go to advanced system settings and add new variable and name it as PYTHON_NAME and paste the copied path.\n",
    "Then look for the path variable, select it's value and select edit\n",
    "Add a semicolon towards the end of the value if it's not present and then type %PYTHON_HOME%"
   ]
  },
  {
   "cell_type": "code",
   "execution_count": 11,
   "metadata": {},
   "outputs": [],
   "source": [
    "# Ques 16: Is indentation required in python?"
   ]
  },
  {
   "cell_type": "markdown",
   "metadata": {},
   "source": [
    "Ans: Indentation is important to Python, because it's how you determine scope. Scope is how Python knows what code belongs to what part of the program."
   ]
  }
 ],
 "metadata": {
  "kernelspec": {
   "display_name": "Python 3 (ipykernel)",
   "language": "python",
   "name": "python3"
  },
  "language_info": {
   "codemirror_mode": {
    "name": "ipython",
    "version": 3
   },
   "file_extension": ".py",
   "mimetype": "text/x-python",
   "name": "python",
   "nbconvert_exporter": "python",
   "pygments_lexer": "ipython3",
   "version": "3.10.8"
  }
 },
 "nbformat": 4,
 "nbformat_minor": 4
}
