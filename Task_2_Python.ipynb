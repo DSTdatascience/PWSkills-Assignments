{
 "cells": [
  {
   "cell_type": "markdown",
   "id": "a424217d-56a6-42dd-85bc-f648193a0f45",
   "metadata": {},
   "source": [
    "# Python Task - 1"
   ]
  },
  {
   "cell_type": "markdown",
   "id": "845dc30c-c95a-44ee-8ea5-ce0c63301e43",
   "metadata": {},
   "source": [
    "## Solution of Q1"
   ]
  },
  {
   "cell_type": "code",
   "execution_count": 6,
   "id": "140c1a85-7538-4b68-be27-0015e552dfed",
   "metadata": {},
   "outputs": [
    {
     "name": "stdin",
     "output_type": "stream",
     "text": [
      "Enter password (with atleast : 2 uppercase letters, 2 lowercase letters, a number, 3 special characters i.e. !, @, #, $, %, %, ^, &, * and min 10 characters) : AAbb1!!!bb\n"
     ]
    },
    {
     "name": "stdout",
     "output_type": "stream",
     "text": [
      "Valid Password\n"
     ]
    }
   ],
   "source": [
    "up, low, num, sp, length  = 0, 0, 0, 0, 0\n",
    "pw = input(\"Enter password (with atleast : 2 uppercase letters, 2 lowercase letters, a number, 3 special characters i.e. !, @, #, $, %, %, ^, &, * and min 10 characters) :\")\n",
    "if (len(pw) >= 10):\n",
    "\tfor i in pw:\n",
    "\t\tif (i.islower()):\n",
    "\t\t\tlow += 1\t\t\n",
    "\t\tif (i.isupper()):\n",
    "\t\t\tup += 1\t\t\n",
    "\t\tif (i.isdigit()):\n",
    "\t\t\tnum += 1\t\t\n",
    "\t\tif(i=='!' or i=='@' or i=='#' or i=='$' or i=='%' or i=='^' or i=='&' or i=='*'):\n",
    "\t\t\tsp += 1\t\t\n",
    "if (low >= 2 and up >= 2 and num >= 1 and sp >= 3 and len(pw)>= 10):\n",
    "\tprint(\"Valid Password\")\n",
    "else:\n",
    "\tprint(\"Invalid Password\")\n"
   ]
  },
  {
   "cell_type": "code",
   "execution_count": 103,
   "id": "21298e4d-9bfc-4615-b578-70a4c791101b",
   "metadata": {},
   "outputs": [
    {
     "name": "stdin",
     "output_type": "stream",
     "text": [
      "Enter password (with atleast : 2 uppercase letters, 2 lowercase letters, a number, 3 special characters i.e. !, @, #, $, %, %, ^, &, * and min 10 characters) : erwtgeraq&\n"
     ]
    },
    {
     "name": "stdout",
     "output_type": "stream",
     "text": [
      "Invalid Password\n"
     ]
    }
   ],
   "source": [
    "up, low, num, sp, length  = 0, 0, 0, 0, 0\n",
    "pw = input(\"Enter password (with atleast : 2 uppercase letters, 2 lowercase letters, a number, 3 special characters i.e. !, @, #, $, %, %, ^, &, * and min 10 characters) :\")\n",
    "if (len(pw) >= 10):\n",
    "\tfor i in pw:\n",
    "\t\tif (i.islower()):\n",
    "\t\t\tlow += 1\t\t\n",
    "\t\tif (i.isupper()):\n",
    "\t\t\tup += 1\t\t\n",
    "\t\tif (i.isdigit()):\n",
    "\t\t\tnum += 1\t\t\n",
    "\t\tif(i=='!' or i=='@' or i=='#' or i=='$' or i=='%' or i=='^' or i=='&' or i=='*'):\n",
    "\t\t\tsp += 1\t\t\n",
    "if (low >= 2 and up >= 2 and num >= 1 and sp >= 3 and len(pw)>= 10):\n",
    "\tprint(\"Valid Password\")\n",
    "else:\n",
    "\tprint(\"Invalid Password\")\n"
   ]
  },
  {
   "cell_type": "markdown",
   "id": "7dc9aa10-23fb-41f4-a3ca-76ba2aeb8a37",
   "metadata": {},
   "source": [
    "## Solution of Q2"
   ]
  },
  {
   "cell_type": "markdown",
   "id": "a7bdd6bf-ecb5-48cd-a1f5-6cef0de8c7cd",
   "metadata": {},
   "source": [
    "## (i)"
   ]
  },
  {
   "cell_type": "code",
   "execution_count": 6,
   "id": "b8ab9384-cd08-4742-88a8-f4bcdd34010d",
   "metadata": {},
   "outputs": [
    {
     "name": "stdin",
     "output_type": "stream",
     "text": [
      "Enter a stirng : Deepak\n",
      "Letter you want to check :  d\n"
     ]
    },
    {
     "name": "stdout",
     "output_type": "stream",
     "text": [
      "Yes, given string deepak starts with d\n"
     ]
    }
   ],
   "source": [
    "s = input(\"Enter a stirng :\").lower()\n",
    "x = input(\"Letter you want to check : \").lower()\n",
    "a = lambda s, x: print(\"Yes, given string\", s, \"starts with\", x) if s[0] == x else print(\"No, given string\", s, \" doesn't starts with\", x)\n",
    "a(s,x)"
   ]
  },
  {
   "cell_type": "code",
   "execution_count": 18,
   "id": "79da5ad7-9c5f-4038-93e6-3db89ce6c5d6",
   "metadata": {},
   "outputs": [
    {
     "name": "stdin",
     "output_type": "stream",
     "text": [
      "Enter a stirng : Sudh\n",
      "Letter you want to check :  a\n"
     ]
    },
    {
     "name": "stdout",
     "output_type": "stream",
     "text": [
      "No, given string sudh  doesn't starts with a\n"
     ]
    }
   ],
   "source": [
    "s = input(\"Enter a stirng :\").lower()\n",
    "x = input(\"Letter you want to check : \").lower()\n",
    "a = lambda s, x: print(\"Yes, given string\", s, \"starts with\", x) if s[0] == x else print(\"No, given string\", s, \" doesn't starts with\", x)\n",
    "a(s,x)"
   ]
  },
  {
   "cell_type": "markdown",
   "id": "e872de04-60f1-40db-ab5e-f4968fcbd8f3",
   "metadata": {},
   "source": [
    "## (ii)"
   ]
  },
  {
   "cell_type": "code",
   "execution_count": 19,
   "id": "f311b8ce-4c8b-4013-9677-2b695639755b",
   "metadata": {},
   "outputs": [
    {
     "name": "stdin",
     "output_type": "stream",
     "text": [
      "Enter a stirng : 123\n"
     ]
    },
    {
     "name": "stdout",
     "output_type": "stream",
     "text": [
      "Yes, given string 123 is neumaric\n"
     ]
    }
   ],
   "source": [
    "s = input(\"Enter a stirng :\")\n",
    "a = lambda s: print(\"Yes, given string\", s, \"is neumaric\") if s.isnumeric() == True else print(\"No, given string\", s, \"is not nemuric\")\n",
    "a(s)"
   ]
  },
  {
   "cell_type": "code",
   "execution_count": 20,
   "id": "776ed1da-c1a4-4e71-91c9-8b277f94b18b",
   "metadata": {},
   "outputs": [
    {
     "name": "stdin",
     "output_type": "stream",
     "text": [
      "Enter a stirng : abc1\n"
     ]
    },
    {
     "name": "stdout",
     "output_type": "stream",
     "text": [
      "No, given string abc1 is not nemuric\n"
     ]
    }
   ],
   "source": [
    "s = input(\"Enter a stirng :\")\n",
    "a = lambda s: print(\"Yes, given string\", s, \"is neumaric\") if s.isnumeric() == True else print(\"No, given string\", s, \"is not nemuric\")\n",
    "a(s)"
   ]
  },
  {
   "cell_type": "markdown",
   "id": "3ef9ddc7-2c71-4195-bdbf-5ad34d81f3fa",
   "metadata": {},
   "source": [
    "## (iii)"
   ]
  },
  {
   "cell_type": "code",
   "execution_count": 66,
   "id": "6ee7399c-3b3c-4ca0-8a43-a10c47cbe392",
   "metadata": {},
   "outputs": [],
   "source": [
    "l = [(\"mango\", 99), (\"orange\", 80), (\"grapes\", 1000)]"
   ]
  },
  {
   "cell_type": "code",
   "execution_count": 67,
   "id": "747c1092-5826-4d9f-8b8c-c382972bb570",
   "metadata": {},
   "outputs": [],
   "source": [
    "l.sort() #alphabetical order "
   ]
  },
  {
   "cell_type": "code",
   "execution_count": 68,
   "id": "b7b2dc7d-de4c-4852-8da9-2bf98729dc28",
   "metadata": {},
   "outputs": [
    {
     "data": {
      "text/plain": [
       "[('grapes', 1000), ('mango', 99), ('orange', 80)]"
      ]
     },
     "execution_count": 68,
     "metadata": {},
     "output_type": "execute_result"
    }
   ],
   "source": [
    "l"
   ]
  },
  {
   "cell_type": "code",
   "execution_count": 70,
   "id": "69849013-949d-495c-84e2-514ff3de5e2b",
   "metadata": {},
   "outputs": [
    {
     "name": "stdout",
     "output_type": "stream",
     "text": [
      "[('grapes', 1000), ('mango', 99), ('orange', 80)]\n"
     ]
    }
   ],
   "source": [
    "l = [(\"mango\", 99), (\"orange\", 80), (\"grapes\", 1000)]\n",
    "l1 = sorted(l, key=lambda x: x[1], reverse=True) # quantity wise \n",
    "print(l1)"
   ]
  },
  {
   "cell_type": "markdown",
   "id": "ca6e59fe-bd23-4571-8d48-b4dad533349c",
   "metadata": {},
   "source": [
    "## (iv)"
   ]
  },
  {
   "cell_type": "code",
   "execution_count": 71,
   "id": "4436b71d-be82-4262-be3b-0f74b210a46f",
   "metadata": {},
   "outputs": [
    {
     "data": {
      "text/plain": [
       "[1, 4, 9, 16, 25, 36, 49, 64, 81, 100]"
      ]
     },
     "execution_count": 71,
     "metadata": {},
     "output_type": "execute_result"
    }
   ],
   "source": [
    "[i**2 for i in range(1,11)]"
   ]
  },
  {
   "cell_type": "markdown",
   "id": "374a835b-c201-479d-a78f-ec6e41b74920",
   "metadata": {},
   "source": [
    "## (v)"
   ]
  },
  {
   "cell_type": "code",
   "execution_count": 72,
   "id": "4516c5d9-0d27-4eb7-a01d-af34947a6f01",
   "metadata": {},
   "outputs": [
    {
     "data": {
      "text/plain": [
       "[1, 8, 27, 64, 125, 216, 343, 512, 729, 1000]"
      ]
     },
     "execution_count": 72,
     "metadata": {},
     "output_type": "execute_result"
    }
   ],
   "source": [
    "[i**3 for i in range(1,11)]"
   ]
  },
  {
   "cell_type": "markdown",
   "id": "25ce7549-4fba-4bd8-a3cb-b3d263da0c12",
   "metadata": {},
   "source": [
    "## (vi)"
   ]
  },
  {
   "cell_type": "code",
   "execution_count": 75,
   "id": "b4638bbd-216b-40d5-a873-1088c043da3a",
   "metadata": {},
   "outputs": [
    {
     "name": "stdin",
     "output_type": "stream",
     "text": [
      "Enter number : 56\n"
     ]
    },
    {
     "name": "stdout",
     "output_type": "stream",
     "text": [
      "Yes, given number 56 is even\n"
     ]
    }
   ],
   "source": [
    "s = int(input(\"Enter number :\"))\n",
    "a = lambda s: print(\"Yes, given number\", s, \"is even\") if s%2 == 0 else print(\"Given number\", s, \"is odd\")\n",
    "a(s)"
   ]
  },
  {
   "cell_type": "code",
   "execution_count": 89,
   "id": "2994b211-6b1e-48ce-bb89-aa6cfa1bf000",
   "metadata": {},
   "outputs": [
    {
     "name": "stdin",
     "output_type": "stream",
     "text": [
      "Enter number : 53\n"
     ]
    },
    {
     "name": "stdout",
     "output_type": "stream",
     "text": [
      "Given number 53 is odd\n"
     ]
    }
   ],
   "source": [
    "s = int(input(\"Enter number :\"))\n",
    "a = lambda s: print(\"Yes, given number\", s, \"is even\") if s%2 == 0 else print(\"Given number\", s, \"is odd\")\n",
    "a(s)"
   ]
  },
  {
   "cell_type": "markdown",
   "id": "89c7109b-409d-4478-b78e-f77b02cf6db8",
   "metadata": {},
   "source": [
    "## (vii)"
   ]
  },
  {
   "cell_type": "code",
   "execution_count": 102,
   "id": "c066df3b-a06f-484c-9d81-e1c1059e7275",
   "metadata": {},
   "outputs": [
    {
     "name": "stdout",
     "output_type": "stream",
     "text": [
      "Odd numbers are : [1, 3, 5, 7, 9]\n"
     ]
    }
   ],
   "source": [
    "l = list (range (1,11))\n",
    "print(\"Odd numbers are :\", list(filter(lambda x: x%2 !=0, l)))"
   ]
  },
  {
   "cell_type": "markdown",
   "id": "3709f2c2-2b3c-45a3-8649-1701e811b520",
   "metadata": {},
   "source": [
    "## (viii)"
   ]
  },
  {
   "cell_type": "code",
   "execution_count": 107,
   "id": "28e200e9-839e-42b8-bda5-bdeca30a7fd0",
   "metadata": {},
   "outputs": [
    {
     "name": "stdout",
     "output_type": "stream",
     "text": [
      "Positive integers list : [1, 2, 3, 4, 5, 6, 0]\n",
      "Negative integers list : [-1, -2, -3, -4, -5]\n"
     ]
    }
   ],
   "source": [
    "l = [1,2,3,4,5,6,-1,-2,-3,-4,-5,0]\n",
    "l_pos = list (filter(lambda x: x>=0, l))\n",
    "l_neg = list(filter(lambda x: x<0, l))\n",
    "print(\"Positive integers list :\", l_pos)\n",
    "print(\"Negative integers list :\", l_neg)"
   ]
  },
  {
   "cell_type": "code",
   "execution_count": null,
   "id": "0efefbb3-7921-4021-8a22-1adc5e8eaf6d",
   "metadata": {},
   "outputs": [],
   "source": []
  }
 ],
 "metadata": {
  "kernelspec": {
   "display_name": "Python 3 (ipykernel)",
   "language": "python",
   "name": "python3"
  },
  "language_info": {
   "codemirror_mode": {
    "name": "ipython",
    "version": 3
   },
   "file_extension": ".py",
   "mimetype": "text/x-python",
   "name": "python",
   "nbconvert_exporter": "python",
   "pygments_lexer": "ipython3",
   "version": "3.10.8"
  }
 },
 "nbformat": 4,
 "nbformat_minor": 5
}
